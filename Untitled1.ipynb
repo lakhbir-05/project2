{
  "nbformat": 4,
  "nbformat_minor": 0,
  "metadata": {
    "colab": {
      "provenance": [],
      "authorship_tag": "ABX9TyPpys2lD8MQEfJBzV0xGhRy",
      "include_colab_link": true
    },
    "kernelspec": {
      "name": "python3",
      "display_name": "Python 3"
    },
    "language_info": {
      "name": "python"
    }
  },
  "cells": [
    {
      "cell_type": "markdown",
      "metadata": {
        "id": "view-in-github",
        "colab_type": "text"
      },
      "source": [
        "<a href=\"https://colab.research.google.com/github/lakhbir-05/project2/blob/main/Untitled1.ipynb\" target=\"_parent\"><img src=\"https://colab.research.google.com/assets/colab-badge.svg\" alt=\"Open In Colab\"/></a>"
      ]
    },
    {
      "cell_type": "markdown",
      "source": [
        "##**challenge** question\n",
        "1.write a python programme to sort the list  of heterogeneous data.+code\n",
        "\n",
        "solution:-\n"
      ],
      "metadata": {
        "id": "_oZQ3Wy2TBDW"
      }
    },
    {
      "cell_type": "code",
      "source": [
        "L=[1,2,'tanu',6,'jass','scooby',8,'simu']\n",
        "l1=[]\n",
        "l2=[]\n",
        "for i in L:\n",
        "  try:\n",
        "    l1.append(int(i))\n",
        "  except:\n",
        "    l2.append(i)\n",
        "l1.sort()\n",
        "l2.sort()\n",
        "l3=l1+l2\n",
        "print(l3)\n",
        "\n"
      ],
      "metadata": {
        "colab": {
          "base_uri": "https://localhost:8080/"
        },
        "id": "ruf0jl_iTuNK",
        "outputId": "7d7f7435-b2c7-4bff-e72d-0c09a55c08e8"
      },
      "execution_count": 1,
      "outputs": [
        {
          "output_type": "stream",
          "name": "stdout",
          "text": [
            "[1, 2, 6, 8, 'jass', 'scooby', 'simu', 'tanu']\n"
          ]
        }
      ]
    }
  ]
}